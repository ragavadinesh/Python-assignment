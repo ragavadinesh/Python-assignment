{
 "cells": [
  {
   "cell_type": "markdown",
   "metadata": {},
   "source": [
    "## Problem Statement\n",
    "### The given problem statement is \"transitive\". \n",
    "### I have approached the solution based on the descrption given in the Document\n",
    "### I have tested with given input.\n",
    "### I have created seperate softwareDependencies.py with functions.\n",
    "### Kindly review the output and code , if any corrections please let me know.\n",
    "### I look forward to hearing form you.\n",
    "### Thanks for the opportunity \n"
   ]
  },
  {
   "cell_type": "code",
   "execution_count": null,
   "metadata": {},
   "outputs": [],
   "source": [
    "#importing the user defined function from the file\n",
    "from softwareDependencies import dependency,convert,inputfile"
   ]
  },
  {
   "cell_type": "code",
   "execution_count": 6,
   "metadata": {},
   "outputs": [],
   "source": [
    "# Initialized given input\n",
    "\n",
    "lookup1={'X':'YR','Y':'Z'}\n",
    "lookup2={'Y':'Z','A':'QRS','X':'Y','Z':'AB'}\n",
    "lookup3={'A':'BC','B':'CE','C':'G','D':'AF','E':'F','F':'H'}"
   ]
  },
  {
   "cell_type": "code",
   "execution_count": 7,
   "metadata": {},
   "outputs": [
    {
     "name": "stdout",
     "output_type": "stream",
     "text": [
      "X depends on RYZ\n",
      "Y depends on Z\n"
     ]
    }
   ],
   "source": [
    "# pass input1.text file and respective lookup table for substitution\n",
    "inputfile(\"INPUT1.txt\",lookup1)"
   ]
  },
  {
   "cell_type": "code",
   "execution_count": 8,
   "metadata": {},
   "outputs": [
    {
     "name": "stdout",
     "output_type": "stream",
     "text": [
      "Y depends on ABQRSZ\n",
      "A depends on QRS\n",
      "X depends on ABQRSYZ\n",
      "Z depends on ABQRS\n"
     ]
    }
   ],
   "source": [
    "# pass input2.text file and respective lookup table for substitution\n",
    "inputfile(\"INPUT2.txt\",lookup2)"
   ]
  },
  {
   "cell_type": "code",
   "execution_count": 9,
   "metadata": {},
   "outputs": [
    {
     "name": "stdout",
     "output_type": "stream",
     "text": [
      "A depends on BCEFGH\n",
      "B depends on CEFGH\n",
      "C depends on G\n",
      "D depends on ABCEFGH\n",
      "E depends on FH\n",
      "F depends on H\n"
     ]
    }
   ],
   "source": [
    "# pass input3.text file and respective lookup table for substitution\n",
    "inputfile(\"INPUT3.txt\",lookup3)"
   ]
  },
  {
   "cell_type": "code",
   "execution_count": null,
   "metadata": {},
   "outputs": [],
   "source": []
  }
 ],
 "metadata": {
  "kernelspec": {
   "display_name": "Python 3",
   "language": "python",
   "name": "python3"
  },
  "language_info": {
   "codemirror_mode": {
    "name": "ipython",
    "version": 3
   },
   "file_extension": ".py",
   "mimetype": "text/x-python",
   "name": "python",
   "nbconvert_exporter": "python",
   "pygments_lexer": "ipython3",
   "version": "3.7.4"
  }
 },
 "nbformat": 4,
 "nbformat_minor": 2
}
